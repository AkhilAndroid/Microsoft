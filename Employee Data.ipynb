{
 "cells": [
  {
   "cell_type": "code",
   "execution_count": 1,
   "id": "c9e9d920",
   "metadata": {},
   "outputs": [],
   "source": [
    "import numpy as np\n",
    "import pandas as pd\n",
    "import matplotlib.pyplot as plt\n",
    "import seaborn as sns"
   ]
  },
  {
   "cell_type": "code",
   "execution_count": 2,
   "id": "0f134952",
   "metadata": {},
   "outputs": [],
   "source": [
    "df = pd.read_csv('/Users/admin/Downloads/Employee_HR.csv')"
   ]
  },
  {
   "cell_type": "code",
   "execution_count": 3,
   "id": "aa2ff9c6",
   "metadata": {},
   "outputs": [
    {
     "data": {
      "text/html": [
       "<div>\n",
       "<style scoped>\n",
       "    .dataframe tbody tr th:only-of-type {\n",
       "        vertical-align: middle;\n",
       "    }\n",
       "\n",
       "    .dataframe tbody tr th {\n",
       "        vertical-align: top;\n",
       "    }\n",
       "\n",
       "    .dataframe thead th {\n",
       "        text-align: right;\n",
       "    }\n",
       "</style>\n",
       "<table border=\"1\" class=\"dataframe\">\n",
       "  <thead>\n",
       "    <tr style=\"text-align: right;\">\n",
       "      <th></th>\n",
       "      <th>EmpId</th>\n",
       "      <th>Satisfaction</th>\n",
       "      <th>Evaluation</th>\n",
       "      <th>number_of_projects</th>\n",
       "      <th>average_montly_hours</th>\n",
       "      <th>time_spent_company</th>\n",
       "      <th>work_accident</th>\n",
       "      <th>Promotion</th>\n",
       "      <th>Department</th>\n",
       "      <th>Salary_INR</th>\n",
       "      <th>Churn</th>\n",
       "    </tr>\n",
       "  </thead>\n",
       "  <tbody>\n",
       "    <tr>\n",
       "      <th>0</th>\n",
       "      <td>780152</td>\n",
       "      <td>3.8</td>\n",
       "      <td>5.3</td>\n",
       "      <td>2</td>\n",
       "      <td>157</td>\n",
       "      <td>3</td>\n",
       "      <td>0</td>\n",
       "      <td>0</td>\n",
       "      <td>sales</td>\n",
       "      <td>11053</td>\n",
       "      <td>1</td>\n",
       "    </tr>\n",
       "    <tr>\n",
       "      <th>1</th>\n",
       "      <td>780153</td>\n",
       "      <td>8.0</td>\n",
       "      <td>8.6</td>\n",
       "      <td>5</td>\n",
       "      <td>262</td>\n",
       "      <td>6</td>\n",
       "      <td>0</td>\n",
       "      <td>0</td>\n",
       "      <td>sales</td>\n",
       "      <td>54063</td>\n",
       "      <td>1</td>\n",
       "    </tr>\n",
       "    <tr>\n",
       "      <th>2</th>\n",
       "      <td>780154</td>\n",
       "      <td>1.1</td>\n",
       "      <td>8.8</td>\n",
       "      <td>7</td>\n",
       "      <td>272</td>\n",
       "      <td>4</td>\n",
       "      <td>0</td>\n",
       "      <td>0</td>\n",
       "      <td>sales</td>\n",
       "      <td>61300</td>\n",
       "      <td>1</td>\n",
       "    </tr>\n",
       "    <tr>\n",
       "      <th>3</th>\n",
       "      <td>780155</td>\n",
       "      <td>7.2</td>\n",
       "      <td>8.7</td>\n",
       "      <td>5</td>\n",
       "      <td>223</td>\n",
       "      <td>5</td>\n",
       "      <td>0</td>\n",
       "      <td>0</td>\n",
       "      <td>sales</td>\n",
       "      <td>20647</td>\n",
       "      <td>1</td>\n",
       "    </tr>\n",
       "    <tr>\n",
       "      <th>4</th>\n",
       "      <td>780156</td>\n",
       "      <td>3.7</td>\n",
       "      <td>5.2</td>\n",
       "      <td>2</td>\n",
       "      <td>159</td>\n",
       "      <td>3</td>\n",
       "      <td>0</td>\n",
       "      <td>0</td>\n",
       "      <td>sales</td>\n",
       "      <td>17808</td>\n",
       "      <td>1</td>\n",
       "    </tr>\n",
       "  </tbody>\n",
       "</table>\n",
       "</div>"
      ],
      "text/plain": [
       "    EmpId  Satisfaction  Evaluation  number_of_projects  average_montly_hours  \\\n",
       "0  780152           3.8         5.3                   2                   157   \n",
       "1  780153           8.0         8.6                   5                   262   \n",
       "2  780154           1.1         8.8                   7                   272   \n",
       "3  780155           7.2         8.7                   5                   223   \n",
       "4  780156           3.7         5.2                   2                   159   \n",
       "\n",
       "   time_spent_company  work_accident  Promotion Department  Salary_INR  Churn  \n",
       "0                   3              0          0      sales       11053      1  \n",
       "1                   6              0          0      sales       54063      1  \n",
       "2                   4              0          0      sales       61300      1  \n",
       "3                   5              0          0      sales       20647      1  \n",
       "4                   3              0          0      sales       17808      1  "
      ]
     },
     "execution_count": 3,
     "metadata": {},
     "output_type": "execute_result"
    }
   ],
   "source": [
    "df.head()"
   ]
  },
  {
   "cell_type": "code",
   "execution_count": 4,
   "id": "256add71",
   "metadata": {},
   "outputs": [
    {
     "data": {
      "text/html": [
       "<div>\n",
       "<style scoped>\n",
       "    .dataframe tbody tr th:only-of-type {\n",
       "        vertical-align: middle;\n",
       "    }\n",
       "\n",
       "    .dataframe tbody tr th {\n",
       "        vertical-align: top;\n",
       "    }\n",
       "\n",
       "    .dataframe thead th {\n",
       "        text-align: right;\n",
       "    }\n",
       "</style>\n",
       "<table border=\"1\" class=\"dataframe\">\n",
       "  <thead>\n",
       "    <tr style=\"text-align: right;\">\n",
       "      <th></th>\n",
       "      <th>EmpId</th>\n",
       "      <th>Satisfaction</th>\n",
       "      <th>Evaluation</th>\n",
       "      <th>number_of_projects</th>\n",
       "      <th>average_montly_hours</th>\n",
       "      <th>time_spent_company</th>\n",
       "      <th>work_accident</th>\n",
       "      <th>Promotion</th>\n",
       "      <th>Salary_INR</th>\n",
       "      <th>Churn</th>\n",
       "    </tr>\n",
       "  </thead>\n",
       "  <tbody>\n",
       "    <tr>\n",
       "      <th>count</th>\n",
       "      <td>14999.000000</td>\n",
       "      <td>14999.000000</td>\n",
       "      <td>14999.000000</td>\n",
       "      <td>14999.000000</td>\n",
       "      <td>14999.000000</td>\n",
       "      <td>14999.000000</td>\n",
       "      <td>14999.000000</td>\n",
       "      <td>14999.000000</td>\n",
       "      <td>14999.000000</td>\n",
       "      <td>14999.000000</td>\n",
       "    </tr>\n",
       "    <tr>\n",
       "      <th>mean</th>\n",
       "      <td>787651.000000</td>\n",
       "      <td>6.128335</td>\n",
       "      <td>7.161017</td>\n",
       "      <td>3.803054</td>\n",
       "      <td>201.050337</td>\n",
       "      <td>3.498233</td>\n",
       "      <td>0.144610</td>\n",
       "      <td>0.021268</td>\n",
       "      <td>62742.699913</td>\n",
       "      <td>0.238083</td>\n",
       "    </tr>\n",
       "    <tr>\n",
       "      <th>std</th>\n",
       "      <td>4329.982679</td>\n",
       "      <td>2.486307</td>\n",
       "      <td>1.711691</td>\n",
       "      <td>1.232592</td>\n",
       "      <td>49.943099</td>\n",
       "      <td>1.460136</td>\n",
       "      <td>0.351719</td>\n",
       "      <td>0.144281</td>\n",
       "      <td>66486.116149</td>\n",
       "      <td>0.425924</td>\n",
       "    </tr>\n",
       "    <tr>\n",
       "      <th>min</th>\n",
       "      <td>780152.000000</td>\n",
       "      <td>0.900000</td>\n",
       "      <td>3.600000</td>\n",
       "      <td>2.000000</td>\n",
       "      <td>96.000000</td>\n",
       "      <td>2.000000</td>\n",
       "      <td>0.000000</td>\n",
       "      <td>0.000000</td>\n",
       "      <td>10000.000000</td>\n",
       "      <td>0.000000</td>\n",
       "    </tr>\n",
       "    <tr>\n",
       "      <th>25%</th>\n",
       "      <td>783901.500000</td>\n",
       "      <td>4.400000</td>\n",
       "      <td>5.600000</td>\n",
       "      <td>3.000000</td>\n",
       "      <td>156.000000</td>\n",
       "      <td>3.000000</td>\n",
       "      <td>0.000000</td>\n",
       "      <td>0.000000</td>\n",
       "      <td>25248.000000</td>\n",
       "      <td>0.000000</td>\n",
       "    </tr>\n",
       "    <tr>\n",
       "      <th>50%</th>\n",
       "      <td>787651.000000</td>\n",
       "      <td>6.400000</td>\n",
       "      <td>7.200000</td>\n",
       "      <td>4.000000</td>\n",
       "      <td>200.000000</td>\n",
       "      <td>3.000000</td>\n",
       "      <td>0.000000</td>\n",
       "      <td>0.000000</td>\n",
       "      <td>41721.000000</td>\n",
       "      <td>0.000000</td>\n",
       "    </tr>\n",
       "    <tr>\n",
       "      <th>75%</th>\n",
       "      <td>791400.500000</td>\n",
       "      <td>8.200000</td>\n",
       "      <td>8.700000</td>\n",
       "      <td>5.000000</td>\n",
       "      <td>245.000000</td>\n",
       "      <td>4.000000</td>\n",
       "      <td>0.000000</td>\n",
       "      <td>0.000000</td>\n",
       "      <td>76354.000000</td>\n",
       "      <td>0.000000</td>\n",
       "    </tr>\n",
       "    <tr>\n",
       "      <th>max</th>\n",
       "      <td>795150.000000</td>\n",
       "      <td>10.000000</td>\n",
       "      <td>10.000000</td>\n",
       "      <td>7.000000</td>\n",
       "      <td>310.000000</td>\n",
       "      <td>10.000000</td>\n",
       "      <td>1.000000</td>\n",
       "      <td>1.000000</td>\n",
       "      <td>399930.000000</td>\n",
       "      <td>1.000000</td>\n",
       "    </tr>\n",
       "  </tbody>\n",
       "</table>\n",
       "</div>"
      ],
      "text/plain": [
       "               EmpId  Satisfaction    Evaluation  number_of_projects  \\\n",
       "count   14999.000000  14999.000000  14999.000000        14999.000000   \n",
       "mean   787651.000000      6.128335      7.161017            3.803054   \n",
       "std      4329.982679      2.486307      1.711691            1.232592   \n",
       "min    780152.000000      0.900000      3.600000            2.000000   \n",
       "25%    783901.500000      4.400000      5.600000            3.000000   \n",
       "50%    787651.000000      6.400000      7.200000            4.000000   \n",
       "75%    791400.500000      8.200000      8.700000            5.000000   \n",
       "max    795150.000000     10.000000     10.000000            7.000000   \n",
       "\n",
       "       average_montly_hours  time_spent_company  work_accident     Promotion  \\\n",
       "count          14999.000000        14999.000000   14999.000000  14999.000000   \n",
       "mean             201.050337            3.498233       0.144610      0.021268   \n",
       "std               49.943099            1.460136       0.351719      0.144281   \n",
       "min               96.000000            2.000000       0.000000      0.000000   \n",
       "25%              156.000000            3.000000       0.000000      0.000000   \n",
       "50%              200.000000            3.000000       0.000000      0.000000   \n",
       "75%              245.000000            4.000000       0.000000      0.000000   \n",
       "max              310.000000           10.000000       1.000000      1.000000   \n",
       "\n",
       "          Salary_INR         Churn  \n",
       "count   14999.000000  14999.000000  \n",
       "mean    62742.699913      0.238083  \n",
       "std     66486.116149      0.425924  \n",
       "min     10000.000000      0.000000  \n",
       "25%     25248.000000      0.000000  \n",
       "50%     41721.000000      0.000000  \n",
       "75%     76354.000000      0.000000  \n",
       "max    399930.000000      1.000000  "
      ]
     },
     "execution_count": 4,
     "metadata": {},
     "output_type": "execute_result"
    }
   ],
   "source": [
    "df.describe()"
   ]
  },
  {
   "cell_type": "code",
   "execution_count": 5,
   "id": "fb3ca332",
   "metadata": {},
   "outputs": [
    {
     "data": {
      "text/plain": [
       "31        33321\n",
       "32        21890\n",
       "33        38614\n",
       "34        22718\n",
       "108       86475\n",
       "          ...  \n",
       "14902    351181\n",
       "14975     95623\n",
       "14976     74057\n",
       "14977     42272\n",
       "14978     77735\n",
       "Name: Salary_INR, Length: 739, dtype: int64"
      ]
     },
     "execution_count": 5,
     "metadata": {},
     "output_type": "execute_result"
    }
   ],
   "source": [
    "hr_salary = df[df['Department']=='hr']['Salary_INR']\n",
    "hr_salary"
   ]
  },
  {
   "cell_type": "code",
   "execution_count": 6,
   "id": "17684c80",
   "metadata": {},
   "outputs": [
    {
     "data": {
      "text/plain": [
       "77       50613\n",
       "83       30167\n",
       "84       14725\n",
       "85       19229\n",
       "148      18457\n",
       "         ...  \n",
       "14876    23378\n",
       "14944    41705\n",
       "14950    24957\n",
       "14951    32891\n",
       "14952    23809\n",
       "Name: Salary_INR, Length: 858, dtype: int64"
      ]
     },
     "execution_count": 6,
     "metadata": {},
     "output_type": "execute_result"
    }
   ],
   "source": [
    "marketing_salary = df[df['Department'] == 'marketing']['Salary_INR']\n",
    "marketing_salary"
   ]
  },
  {
   "cell_type": "code",
   "execution_count": 7,
   "id": "2ffe5a7a",
   "metadata": {},
   "outputs": [
    {
     "name": "stdout",
     "output_type": "stream",
     "text": [
      "Standard Deviation of hr salary is : 61548.910096190004\n",
      "Variance of hr salary is : 3788268334.02888\n",
      "INTER QUARTILE RANGE of hr salary is : 49796.5\n"
     ]
    }
   ],
   "source": [
    "hr_std_dev = np.std(hr_salary)\n",
    "hr_variance = np.var(hr_salary)\n",
    "hr_q1 = np.percentile(hr_salary,25)\n",
    "hr_q3 = np.percentile(hr_salary,75)\n",
    "hr_inter_q_range = hr_q3-hr_q1\n",
    "\n",
    "print(\"Standard Deviation of hr salary is :\",hr_std_dev)\n",
    "print(\"Variance of hr salary is :\",hr_variance)\n",
    "print(\"INTER QUARTILE RANGE of hr salary is :\",hr_inter_q_range)\n"
   ]
  },
  {
   "cell_type": "code",
   "execution_count": 8,
   "id": "ae7a08be",
   "metadata": {},
   "outputs": [
    {
     "name": "stdout",
     "output_type": "stream",
     "text": [
      "Standard Deviation of Marketing salary is :  69385.50452279949\n",
      "Variance of Marketing salary is :  4814348237.883429\n",
      "INTER QUARTILE RANGE of Marketing salary is :  54579.25\n"
     ]
    }
   ],
   "source": [
    "marketing_std_dev = np.std(marketing_salary)\n",
    "marketing_variance = np.var(marketing_salary)\n",
    "mkt_q1 = np.percentile(marketing_salary,25)\n",
    "mkt_q3 = np.percentile(marketing_salary,75)\n",
    "marketing_inter_q_range = mkt_q3-mkt_q1\n",
    "\n",
    "print(\"Standard Deviation of Marketing salary is : \",marketing_std_dev)\n",
    "print(\"Variance of Marketing salary is : \",marketing_variance)\n",
    "print(\"INTER QUARTILE RANGE of Marketing salary is : \",marketing_inter_q_range)\n",
    "\n"
   ]
  },
  {
   "cell_type": "code",
   "execution_count": 9,
   "id": "4802ce1e",
   "metadata": {},
   "outputs": [
    {
     "data": {
      "text/plain": [
       "61       4\n",
       "62       5\n",
       "63       3\n",
       "64       4\n",
       "65       4\n",
       "        ..\n",
       "14930    4\n",
       "14931    5\n",
       "14932    3\n",
       "14933    4\n",
       "14938    5\n",
       "Name: time_spent_company, Length: 1227, dtype: int64"
      ]
     },
     "execution_count": 9,
     "metadata": {},
     "output_type": "execute_result"
    }
   ],
   "source": [
    "IT_Experience = df[df['Department'] == 'IT']['time_spent_company']\n",
    "IT_Experience"
   ]
  },
  {
   "cell_type": "code",
   "execution_count": 10,
   "id": "bdc05fb7",
   "metadata": {},
   "outputs": [
    {
     "name": "stdout",
     "output_type": "stream",
     "text": [
      "The range of Experience in IT department is :  8\n"
     ]
    }
   ],
   "source": [
    "Exp_range = IT_Experience.max() - IT_Experience.min()\n",
    "print(\"The range of Experience in IT department is : \",Exp_range)"
   ]
  },
  {
   "cell_type": "code",
   "execution_count": 11,
   "id": "fc91eb1a",
   "metadata": {},
   "outputs": [],
   "source": [
    "df1 = ['Department','time_spent_company']"
   ]
  },
  {
   "cell_type": "code",
   "execution_count": 12,
   "id": "c3dc0738",
   "metadata": {},
   "outputs": [
    {
     "data": {
      "text/plain": [
       "<Axes: xlabel='Department', ylabel='time_spent_company'>"
      ]
     },
     "execution_count": 12,
     "metadata": {},
     "output_type": "execute_result"
    },
    {
     "data": {
      "image/png": "[encoded data removed]",
      "text/plain": [
       "<Figure size 1000x600 with 1 Axes>"
      ]
     },
     "metadata": {},
     "output_type": "display_data"
    }
   ],
   "source": [
    "plt.figure(figsize=(10, 6)) \n",
    "sns.boxplot(data=df, x='Department', y='time_spent_company')"
   ]
  },
  {
   "cell_type": "code",
   "execution_count": 13,
   "id": "84dca53a",
   "metadata": {},
   "outputs": [
    {
     "name": "stdout",
     "output_type": "stream",
     "text": [
      "Salary_INR\n",
      "66486.11614875063\n"
     ]
    }
   ],
   "source": [
    "std_dev = df.std(numeric_only = True)\n",
    "highest_std_feature = std_dev.idxmax()\n",
    "highest_std_value = std_dev[highest_std_feature]\n",
    "print(highest_std_feature)\n",
    "print(highest_std_value)"
   ]
  }
 ],
 "metadata": {
  "kernelspec": {
   "display_name": "Python 3 (ipykernel)",
   "language": "python",
   "name": "python3"
  },
  "language_info": {
   "codemirror_mode": {
    "name": "ipython",
    "version": 3
   },
   "file_extension": ".py",
   "mimetype": "text/x-python",
   "name": "python",
   "nbconvert_exporter": "python",
   "pygments_lexer": "ipython3",
   "version": "3.11.4"
  }
 },
 "nbformat": 4,
 "nbformat_minor": 5
}
